{
  "nbformat": 4,
  "nbformat_minor": 0,
  "metadata": {
    "colab": {
      "provenance": [],
      "toc_visible": true,
      "authorship_tag": "ABX9TyMTUaqZKEBUGNAJF9KX6zcW",
      "include_colab_link": true
    },
    "kernelspec": {
      "name": "python3",
      "display_name": "Python 3"
    },
    "language_info": {
      "name": "python"
    }
  },
  "cells": [
    {
      "cell_type": "markdown",
      "metadata": {
        "id": "view-in-github",
        "colab_type": "text"
      },
      "source": [
        "<a href=\"https://colab.research.google.com/github/samangelap/Prediction-of-Sales/blob/main/Prediction_of_Sales.ipynb\" target=\"_parent\"><img src=\"https://colab.research.google.com/assets/colab-badge.svg\" alt=\"Open In Colab\"/></a>"
      ]
    },
    {
      "cell_type": "code",
      "execution_count": null,
      "metadata": {
        "id": "TLqwehKcVmSO"
      },
      "outputs": [],
      "source": []
    },
    {
      "cell_type": "markdown",
      "source": [
        "#Prediction of Product Sales\n"
      ],
      "metadata": {
        "id": "11eBpsq5WS8s"
      }
    },
    {
      "cell_type": "markdown",
      "source": [
        "###Samantha Perez"
      ],
      "metadata": {
        "id": "vhkuIUMqYzCr"
      }
    },
    {
      "cell_type": "markdown",
      "source": [
        "##Project Overview"
      ],
      "metadata": {
        "id": "-l-hg2fLY4DY"
      }
    },
    {
      "cell_type": "markdown",
      "source": [
        "## Load and Inspect Data"
      ],
      "metadata": {
        "id": "ucXn2GHPZQl5"
      }
    },
    {
      "cell_type": "code",
      "source": [],
      "metadata": {
        "id": "pNhNQHkvZzKf"
      },
      "execution_count": null,
      "outputs": []
    },
    {
      "cell_type": "markdown",
      "source": [
        "## Clean Data"
      ],
      "metadata": {
        "id": "WGg6-_lmZYCJ"
      }
    },
    {
      "cell_type": "code",
      "source": [],
      "metadata": {
        "id": "3IAlKhfSZ4fA"
      },
      "execution_count": null,
      "outputs": []
    },
    {
      "cell_type": "markdown",
      "source": [
        "## Exploratory Data Analysis"
      ],
      "metadata": {
        "id": "NFPoDGM5Z5Qo"
      }
    },
    {
      "cell_type": "code",
      "source": [],
      "metadata": {
        "id": "AR3XkC0vZ9en"
      },
      "execution_count": null,
      "outputs": []
    },
    {
      "cell_type": "markdown",
      "source": [
        "## Explanatory Data Analysis"
      ],
      "metadata": {
        "id": "8-P4bygXZ96E"
      }
    },
    {
      "cell_type": "code",
      "source": [],
      "metadata": {
        "id": "khu95_l0aG4a"
      },
      "execution_count": null,
      "outputs": []
    }
  ]
}